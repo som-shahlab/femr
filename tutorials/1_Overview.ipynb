{
 "cells": [
  {
   "cell_type": "markdown",
   "metadata": {},
   "source": [
    "# How FEMR Works + Toy Example\n",
    "\n",
    "This notebook will go over the fundamentals of FEMR, including the three core classes of `Patient`, `Event` and `PatientDatabase`.\n",
    "\n",
    "Everything in **FEMR** revolves around processing patients and their clinical data. This is done through these three fundamental classes.\n",
    "\n",
    "Before going through this tutorial, please make sure you've installed **FEMR** as detailed in the [README.md](https://github.com/som-shahlab/femr)"
   ]
  },
  {
   "cell_type": "code",
   "execution_count": 1,
   "metadata": {},
   "outputs": [],
   "source": [
    "import datetime\n",
    "import femr"
   ]
  },
  {
   "cell_type": "markdown",
   "metadata": {
    "tags": []
   },
   "source": [
    "#### Patients\n",
    "\n",
    "FEMR represents every patient with the `Patient` class. \n",
    "\n",
    "A `Patient` object contains the following two attributes:\n",
    "\n",
    "* `patient_id` (str): a unique identifier for the patient\n",
    "* `events` (list): a list of `Event` objects associated with that patient\n",
    "\n",
    "The definition of the `Patient` class can be [found here](https://github.com/som-shahlab/femr/blob/main/src/femr/__init__.py#L11)\n",
    "\n",
    "#### Events\n",
    "\n",
    "FEMR represents clinical events with the `Event` object.\n",
    "\n",
    "An `Event` object can contain any number of arbitrary attributes, but it must have at least the following two attributes:\n",
    "\n",
    "* `start` (datetime.datetime): the start time of the event\n",
    "* `code` (int): the code that FEMR associates with events of the same type\n",
    "\n",
    "The definition of the `Event` class can be [found here](https://github.com/som-shahlab/femr/blob/main/src/femr/__init__.py#L22)\n",
    "\n",
    "\n",
    "#### PatientDatabase\n",
    "\n",
    "FEMR stores patients and events in the `PatientDatabase` object.\n",
    "\n",
    "A `PatientDatabase` is a Python map between patient ids and `Patient` objects. It also contains a variety of other utilities, such as ontology functionality.\n",
    "\n",
    "`PatientDatabase`s can be created in two ways, either directly from OMOP 5.4 data (the recommended route), or through the simple FEMR format.\n",
    "\n",
    "See tutorial 2a for the OMOP route and tutorial 2b for the simple FEMR format route."
   ]
  },
  {
   "cell_type": "markdown",
   "metadata": {},
   "source": [
    "Below, we'll create some events for some fictional patients."
   ]
  },
  {
   "cell_type": "code",
   "execution_count": 2,
   "metadata": {},
   "outputs": [],
   "source": [
    "events = [\n",
    "    # This event contains the bare minimum attributes -- start and code.\n",
    "    femr.Event(\n",
    "        start=datetime.datetime(2010, 1, 5),\n",
    "        code=2,\n",
    "    ),\n",
    "    # This event contains a couple custom attributes -- value and source_table.\n",
    "    femr.Event(\n",
    "        start=datetime.datetime(2010, 1, 3, hour=10, minute=45),\n",
    "        code=2,\n",
    "        value=\"test_value\",\n",
    "        source_table=None,\n",
    "    ),\n",
    "    # This event contains even more attributes.\n",
    "    femr.Event(\n",
    "        start=datetime.datetime(2010, 1, 3, hour=10, minute=30),\n",
    "        code=0,\n",
    "        value=34.0,\n",
    "        source_table='visit',\n",
    "        extra_attr=True,\n",
    "    ),\n",
    "]"
   ]
  },
  {
   "cell_type": "markdown",
   "metadata": {},
   "source": [
    "Now that we have our events, let's create a couple fictional patients."
   ]
  },
  {
   "cell_type": "code",
   "execution_count": 3,
   "metadata": {},
   "outputs": [
    {
     "data": {
      "text/plain": [
       "[Event(start=2010-01-05 00:00:00, code=2, value=None),\n",
       " Event(start=2010-01-03 10:45:00, code=2, value=test_value)]"
      ]
     },
     "execution_count": 3,
     "metadata": {},
     "output_type": "execute_result"
    }
   ],
   "source": [
    "patients = [\n",
    "    # Let's assign each patient a subset of our events for example purposes.\n",
    "    femr.Patient(patient_id=0, events=events[:2]),\n",
    "    femr.Patient(patient_id=1, events=events[1:]),\n",
    "    femr.Patient(patient_id=10, events=events),\n",
    "]\n",
    "\n",
    "# Lets print out the events of one patient to see what they look like.\n",
    "# Note that attributes associated with `None` (i.e. `source_table` in the \n",
    "# second event) won't be printed out, but they are still tracked internally by femr.\n",
    "patients[0].events"
   ]
  },
  {
   "cell_type": "markdown",
   "metadata": {},
   "source": [
    "We can access a specific event's attributes as follows. Note that accessing an attribute that wasn't defined on an event will return `None` by default (rather than raise an exception)."
   ]
  },
  {
   "cell_type": "code",
   "execution_count": 4,
   "metadata": {},
   "outputs": [
    {
     "name": "stdout",
     "output_type": "stream",
     "text": [
      "Patient 0:\n",
      "    Event #0:\n",
      "       Start = 2010-01-05 00:00:00 | Code = 2 | Value = None | Source Table = None | Extra Attr = None\n",
      "    Event #1:\n",
      "       Start = 2010-01-03 10:45:00 | Code = 2 | Value = test_value | Source Table = None | Extra Attr = None\n",
      "Patient 1:\n",
      "    Event #0:\n",
      "       Start = 2010-01-03 10:45:00 | Code = 2 | Value = test_value | Source Table = None | Extra Attr = None\n",
      "    Event #1:\n",
      "       Start = 2010-01-03 10:30:00 | Code = 0 | Value = 34.0 | Source Table = visit | Extra Attr = True\n",
      "Patient 10:\n",
      "    Event #0:\n",
      "       Start = 2010-01-05 00:00:00 | Code = 2 | Value = None | Source Table = None | Extra Attr = None\n",
      "    Event #1:\n",
      "       Start = 2010-01-03 10:45:00 | Code = 2 | Value = test_value | Source Table = None | Extra Attr = None\n",
      "    Event #2:\n",
      "       Start = 2010-01-03 10:30:00 | Code = 0 | Value = 34.0 | Source Table = visit | Extra Attr = True\n"
     ]
    }
   ],
   "source": [
    "for patient in patients:\n",
    "    print(f\"Patient {patient.patient_id}:\")\n",
    "    for idx, event in enumerate(patient.events):\n",
    "        print(f\"    Event #{idx}:\")\n",
    "        print(f\"       Start = {event.start} | Code = {event.code} | Value = {event.value} | Source Table = {event.source_table} | Extra Attr = {event.extra_attr}\")"
   ]
  }
 ],
 "metadata": {
  "kernelspec": {
   "display_name": "Python 3 (ipykernel)",
   "language": "python",
   "name": "python3"
  },
  "language_info": {
   "codemirror_mode": {
    "name": "ipython",
    "version": 3
   },
   "file_extension": ".py",
   "mimetype": "text/x-python",
   "name": "python",
   "nbconvert_exporter": "python",
   "pygments_lexer": "ipython3",
   "version": "3.10.12"
  },
  "vscode": {
   "interpreter": {
    "hash": "5381b9feecc5c483a184cec838fb477b45f42c56cf211446745f1ac91a2d5966"
   }
  }
 },
 "nbformat": 4,
 "nbformat_minor": 4
}
