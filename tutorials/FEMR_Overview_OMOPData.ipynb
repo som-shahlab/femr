{
 "cells": [
  {
   "cell_type": "markdown",
   "id": "ef185d8e-a8c0-43cf-9827-cf10e6d1dc10",
   "metadata": {},
   "source": [
    "FEMR is primarily designed to work with OMOP datasources, but it is possible to provide\n",
    "a simpler input format that will work with some parts of the FEMR pipeline.\n",
    "\n",
    "This tutorial documents that simple schema and shows how to use it."
   ]
  },
  {
   "cell_type": "markdown",
   "id": "db58ebe9-fed0-49a1-ad42-7c09cda3d2db",
   "metadata": {},
   "source": [
    "The input schema is a folder of csv files, where each csv file has at minimum the following columns:\n",
    "\n",
    "patient_id, start, code, value\n",
    "\n",
    "Each row in a file corresponds to an event.\n",
    "\n",
    "- patient_id is some id for the patient that has the event\n",
    "  patient_id must be a 64 bit unsigned integer\n",
    "\n",
    "- start is the start timestamp for that event, ideally when the event is initially recorded in the database.\n",
    "  start must be an ISO 8601 timestamp string\n",
    "\n",
    "- code is a string identifying what the event is. It must internally consist of a vocab signifier and the code itself, split by a \"/\" character.\n",
    "  For example ICD10CM/E11.4\n",
    "\n",
    "- value is a value associated with the event. It can either be a numeric value, an arbitrary string, or an empty string (indicating no value).\n",
    "\n",
    "You may also add arbitrary columns for any csv file. Those will be added to each event. The columns can vary between csv files.\n",
    "We recommend adding columns to note dosage, visit_ids, and lab units, source Clarity tables, etc, etc.\n",
    "\n",
    "The first row (in time) for each patient is considered their birth event.\n",
    "\n",
    "Ordering of rows for each patient, or patient rows being split across files doesn't matter.\n",
    "Everything will be resorted and joined as part of the ETL process."
   ]
  },
  {
   "cell_type": "markdown",
   "id": "768a8b00-885f-48d8-9490-c9c612a06921",
   "metadata": {},
   "source": [
    "All different types of EMR data can be mapped to those four core columns. Here are the common tips for different types of fields:\n",
    "\n",
    "Demographics should generally be mapped as as demographics codes assigned to the birth date of the patient (with no value assigned).\n",
    "\n",
    "Labs should be assigned to when the lab result is available, with the value numeric is possible, but text valued otherwise.\n",
    "\n",
    "Procedures and diagnosis codes should generally be mapped to when the event happened, with no value attached.\n",
    "\n",
    "Other strange datatypes, such as flowsheets can be added as needed, with either string or numeric values as whatever is more natural."
   ]
  },
  {
   "cell_type": "code",
   "execution_count": 1,
   "id": "db28978b-aac7-4c59-9b52-fb0ec9761b6e",
   "metadata": {},
   "outputs": [],
   "source": [
    "# Create some folders\n",
    "\n",
    "import os\n",
    "\n",
    "TARGET_DIR = \"trash/simple_femr\"\n",
    "os.mkdir(TARGET_DIR)\n",
    "\n",
    "INPUT_DIR = os.path.join(TARGET_DIR, \"simple_input\")\n",
    "os.mkdir(INPUT_DIR)\n"
   ]
  },
  {
   "cell_type": "code",
   "execution_count": 2,
   "id": "19ac99d7-1d0a-40d3-bc22-29b37f45113c",
   "metadata": {},
   "outputs": [],
   "source": [
    "# Write an example file according to that schema\n",
    "\n",
    "# In this example, we include the mandatory fields, as well as dosage, visit_id, lab_unit, and clarity_table\n",
    "\n",
    "with open(os.path.join(INPUT_DIR, \"example.csv\"), \"w\") as f:\n",
    "    f.write(\"patient_id,start,code,value,dosage,visit_id,lab_unit,clarity_table\\n\")\n",
    "    f.write(\"2,1994-01-03,Birth/Birth,,,,,\\n\")  # First event is always birth\n",
    "\n",
    "    f.write(\"2,1994-03-06,Drug/Atorvastatin,,50mg,,,\\n\")  # Example usage of dosage\n",
    "\n",
    "    f.write(\"2,1994-02-03,ICD10/E11.4,,,,,some_table\\n\")  # Note how events can be out of order\n",
    "\n",
    "    f.write(\"2,1994-07-09,Vitals/Blood Pressure,150,,2,mmhg,\\n\")  # Example use of a numeric value"
   ]
  },
  {
   "cell_type": "code",
   "execution_count": 3,
   "id": "c484efee-e149-426a-b554-6b78acb0b7ed",
   "metadata": {},
   "outputs": [],
   "source": [
    "# Generate a ton more randomly generated synthetic examples\n",
    "import random\n",
    "import datetime\n",
    "import string\n",
    "\n",
    "def add_random_patient(patient_id, f):\n",
    "    epoch = datetime.date(1990, 1, 1)\n",
    "    birth = epoch + datetime.timedelta(days=random.randint(100, 1000))\n",
    "    current_date = birth\n",
    "    \n",
    "    f.write(f\"{patient_id},{birth.isoformat()},Birth/Birth,\\n\")  # First event is always birth\n",
    "    for code in range(random.randint(1, 10)):\n",
    "        code = ''.join(random.choices(string.ascii_uppercase + string.digits, k=8))\n",
    "        current_date = current_date +  datetime.timedelta(days=random.randint(0, 100))\n",
    "        f.write(f\"{patient_id},{current_date.isoformat()},FAKE_CODE/{code},\\n\")  # First event is always birth\n",
    "\n",
    "for file_no in range(1, 11):\n",
    "    with open(os.path.join(INPUT_DIR, f\"{file_no}.csv\"), \"w\") as f:    \n",
    "        # Use the simpler 4 column minimum format, with no optional columns\n",
    "        f.write(\"patient_id,start,code,value\\n\")\n",
    "        for patient_id in range(file_no * 100, (file_no + 1) * 100):\n",
    "            add_random_patient(patient_id, f)\n",
    "        "
   ]
  },
  {
   "cell_type": "code",
   "execution_count": null,
   "id": "fb41a735-7d03-4b5b-b07d-5e442dd71a19",
   "metadata": {},
   "outputs": [
    {
     "name": "stderr",
     "output_type": "stream",
     "text": [
      "2023-04-28 01:39:46,957 [MainThread  ] [INFO ]  Extracting from OMOP with arguments Namespace(simple_source='trash/simple_femr/simple_input', target_location='/local-scratch/nigam/projects/ethanid/femr_develop/femr/tutorials/trash/simple_femr/extract', temp_location='/local-scratch/nigam/projects/ethanid/femr_develop/femr/tutorials/trash/simple_femr/logs', num_threads=2, athena_download='/home/ethanid/vocab')\n",
      "2023-04-28 01:39:46,957 [MainThread  ] [INFO ]  Converting to events\n"
     ]
    }
   ],
   "source": [
    "# Convert the directory to an extract\n",
    "\n",
    "LOG_DIR = os.path.join(TARGET_DIR, \"logs\")\n",
    "EXTRACT_DIR = os.path.join(TARGET_DIR, \"extract\")\n",
    "\n",
    "os.system(f\"etl_simple_femr {INPUT_DIR} {EXTRACT_DIR} {LOG_DIR} --num_threads 2 --athena_download ~/vocab\")\n"
   ]
  },
  {
   "cell_type": "code",
   "execution_count": null,
   "id": "a322d997-fa51-4fec-89ee-b87ef0f8f2a0",
   "metadata": {},
   "outputs": [],
   "source": [
    "# Open and look at the data.\n",
    "\n",
    "\n",
    "import femr.datasets\n",
    "\n",
    "database = femr.datasets.PatientDatabase(EXTRACT_DIR)\n",
    "\n",
    "# We have 1001 patient\n",
    "print(\"Num patients\", len(database))\n",
    "\n",
    "# Note that FEMR remaps patient ids, we have to use a mapping to get back our original patient 2\n",
    "\n",
    "# Print out that patient\n",
    "patient = database[2]\n",
    "print(patient)\n",
    "\n",
    "\n",
    "# You can pull things like dosage by looking at the event\n",
    "for event in patient.events:\n",
    "    print(event, event.dosage, database.get_ontology().get_all_parents(event.code))\n",
    "  \n",
    "all_patient_ids = list(database)\n",
    "print(len(all_patient_ids))"
   ]
  }
 ],
 "metadata": {
  "kernelspec": {
   "display_name": "Python 3 (ipykernel)",
   "language": "python",
   "name": "python3"
  },
  "language_info": {
   "codemirror_mode": {
    "name": "ipython",
    "version": 3
   },
   "file_extension": ".py",
   "mimetype": "text/x-python",
   "name": "python",
   "nbconvert_exporter": "python",
   "pygments_lexer": "ipython3",
   "version": "3.10.9"
  }
 },
 "nbformat": 4,
 "nbformat_minor": 5
}
