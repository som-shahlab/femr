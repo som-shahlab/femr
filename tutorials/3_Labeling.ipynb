{
 "cells": [
  {
   "cell_type": "markdown",
   "id": "43f4d50c-4e7b-4652-9701-be9366ff70c4",
   "metadata": {},
   "source": [
    "# Labeling\n",
    "\n",
    "A core component of FEMR is labeling patients.\n",
    "\n",
    "Labels are represented and stored within FEMR as instances of the `Label` class.\n",
    "\n",
    "A `Label` object contains the following two attributes:\n",
    "\n",
    "* `time` (datetime): The prediction time when the model should attempt to predict the label\n",
    "* `value` (bool | int | float | SurvivalValue): The target to predict\n",
    "\n",
    "The definition of the `Label` class can be [found here](https://github.com/som-shahlab/femr/blob/main/src/femr/labelers/core.py#L51)\n",
    "\n",
    "Label.value has a dynamic type to reflect the different types of labels that might be used in clinical ML, including boolean, numeric, categorical, and survival labels."
   ]
  },
  {
   "cell_type": "code",
   "execution_count": 1,
   "id": "c6ac5c41-bc99-4731-ad82-7152274c67e1",
   "metadata": {},
   "outputs": [],
   "source": [
    "import shutil\n",
    "import os\n",
    "\n",
    "TARGET_DIR = 'trash/tutorial_3'\n",
    "\n",
    "if os.path.exists(TARGET_DIR):\n",
    "    shutil.rmtree(TARGET_DIR)\n",
    "\n",
    "os.mkdir(TARGET_DIR)"
   ]
  },
  {
   "cell_type": "code",
   "execution_count": 2,
   "id": "8d9e2ccd-71c2-4ae0-897b-7ec022f9fdf4",
   "metadata": {},
   "outputs": [],
   "source": [
    "import femr.labelers\n",
    "import datetime\n",
    "\n",
    "# Predict False on March 2nd, 1994\n",
    "example_label = femr.labelers.Label(time=datetime.datetime(1994, 3, 2), value=False)\n",
    "\n",
    "# Predict True on March 2nd, 2009\n",
    "example_label2 = femr.labelers.Label(time=datetime.datetime(2000, 3, 2), value=True)"
   ]
  },
  {
   "cell_type": "markdown",
   "id": "6f6ed2fb-733f-4bff-889a-799b861c707f",
   "metadata": {},
   "source": [
    "# Label Storage\n",
    "\n",
    "Labels are stored with the femr [`LabeledPatients` class](https://github.com/som-shahlab/femr/blob/main/src/femr/labelers/core.py#L96), which is conceptually a mapping between patient ids and the labels for that patient, with a bit of extra metadata and functions.\n",
    "\n",
    "This class is constructed from a dictionary of labels and a string label type indicator.\n",
    "\n",
    "LabeledPatients is serialized to disk using pickle."
   ]
  },
  {
   "cell_type": "markdown",
   "id": "769fc6e9-c5d6-4072-a591-e017d3dda2ff",
   "metadata": {},
   "source": [
    "# Generating Labels Manually\n",
    "\n",
    "You can manually create labels, or import them from outside FEMR, by simply constructing the appropriate Label and LabeledPatients classes and serializing them to disk using the save function.\n",
    "\n",
    "Note that this is generally not recommended because outside labels might not be in-sync with FEMR's definition of time."
   ]
  },
  {
   "cell_type": "code",
   "execution_count": 3,
   "id": "28daf2fe-ca93-4bad-af34-fa3ca429e9a8",
   "metadata": {},
   "outputs": [
    {
     "name": "stdout",
     "output_type": "stream",
     "text": [
      "[Label(time=datetime.datetime(1994, 3, 2, 0, 0), value=False), Label(time=datetime.datetime(2000, 3, 2, 0, 0), value=True)]\n",
      "(array([2, 6, 6]), array([False, False,  True]), array([datetime.datetime(1994, 3, 2, 0, 0),\n",
      "       datetime.datetime(1994, 3, 2, 0, 0),\n",
      "       datetime.datetime(2000, 3, 2, 0, 0)], dtype=object))\n"
     ]
    }
   ],
   "source": [
    "import pickle\n",
    "\n",
    "# Note that a patient can have multiple labels\n",
    "\n",
    "label_map = {\n",
    "    2: [example_label],\n",
    "    6: [example_label, example_label2],\n",
    "}\n",
    "\n",
    "labels = femr.labelers.LabeledPatients(label_map, labeler_type=\"boolean\")\n",
    "\n",
    "print(labels[6])\n",
    "\n",
    "# This class also contains some useful helpers\n",
    "print(labels.as_numpy_arrays())\n",
    "\n",
    "labels.save(os.path.join(TARGET_DIR, 'manual_example.csv'))"
   ]
  },
  {
   "cell_type": "markdown",
   "id": "e77b1bfc-8d2d-4f79-b855-f90b3a73736e",
   "metadata": {},
   "source": [
    "# Generating Labels Programatically Within FEMR\n",
    "\n",
    "FEMR also supports algorithmically generating labels through the use of a labeling function class. Generating labels within FEMR using this approach is garanteed to be in-sync with FEMR's definition of time and is highly recommended.\n",
    "\n",
    "The core for FEMR's labeling code is the abstract base class [Labeler](https://github.com/som-shahlab/femr/blob/main/src/femr/labelers/core.py#L251).\n",
    "\n",
    "Labeler has two abstract methods:\n",
    "\n",
    "```\n",
    "def label(self, patient: Patient) -> List[Label]:\n",
    "    Generate a list of labels for a patient\n",
    "\n",
    "def get_labeler_type(self) -> LabelType:\n",
    "    Get the type of the labelers\n",
    "```\n",
    "\n",
    "Once these two methods are implemented, the apply function becomes available for generating labels on a particular PatientDatabase."
   ]
  },
  {
   "cell_type": "code",
   "execution_count": 4,
   "id": "9ac22dbe-ef34-468a-8ab3-673e58e5a920",
   "metadata": {},
   "outputs": [
    {
     "name": "stdout",
     "output_type": "stream",
     "text": [
      "[Label(time=datetime.datetime(1990, 11, 30, 0, 0), value=True)]\n",
      "[Label(time=datetime.datetime(1991, 4, 15, 0, 0), value=False)]\n",
      "[Label(time=datetime.datetime(1992, 4, 27, 0, 0), value=True)]\n",
      "[Label(time=datetime.datetime(1991, 6, 28, 0, 0), value=True)]\n",
      "[Label(time=datetime.datetime(1990, 12, 2, 0, 0), value=False)]\n",
      "[Label(time=datetime.datetime(1990, 5, 21, 0, 0), value=True)]\n",
      "[Label(time=datetime.datetime(1992, 7, 13, 0, 0), value=True)]\n",
      "[Label(time=datetime.datetime(1991, 5, 3, 0, 0), value=True)]\n",
      "[Label(time=datetime.datetime(1991, 3, 5, 0, 0), value=False)]\n",
      "[Label(time=datetime.datetime(1990, 11, 7, 0, 0), value=True)]\n"
     ]
    }
   ],
   "source": [
    "from typing import List\n",
    "\n",
    "class IsMaleLabeler(femr.labelers.Labeler):\n",
    "    # Dummy labeler to predict gender at birth\n",
    "    \n",
    "    def label(self, patient: femr.Patient) -> List[femr.labelers.Label]:\n",
    "        is_male = any('Gender/Gender' in event.code and event.value == \"M\" for event in patient.events)\n",
    "        return [femr.labelers.Label(time=patient.events[1].start, value=is_male)]\n",
    "    \n",
    "    def get_labeler_type(self) -> femr.labelers.LabelType:\n",
    "        return \"boolean\"\n",
    "    \n",
    "labeler = IsMaleLabeler()\n",
    "labeled_patients = labeler.apply(path_to_patient_database=\"input/extract\")\n",
    "\n",
    "for i in range(10):\n",
    "    print(labeled_patients[100 + i])\n",
    "    \n",
    "# Serialize with pickle\n",
    "\n",
    "labeled_patients.save(os.path.join(TARGET_DIR, 'programatic.csv'))"
   ]
  }
 ],
 "metadata": {
  "kernelspec": {
   "display_name": "Python 3 (ipykernel)",
   "language": "python",
   "name": "python3"
  },
  "language_info": {
   "codemirror_mode": {
    "name": "ipython",
    "version": 3
   },
   "file_extension": ".py",
   "mimetype": "text/x-python",
   "name": "python",
   "nbconvert_exporter": "python",
   "pygments_lexer": "ipython3",
   "version": "3.10.12"
  }
 },
 "nbformat": 4,
 "nbformat_minor": 5
}
