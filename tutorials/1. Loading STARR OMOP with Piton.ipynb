{
 "cells": [
  {
   "cell_type": "markdown",
   "metadata": {},
   "source": [
    "# Loading STARR OMOP with Piton\n",
    "\n",
    "In this notebook, we'll walkthrough the process of loading the STARR OMOP dataset into Piton. \n",
    "\n",
    "We'll start by downloading STARR OMOP from BigQuery, leverage pre-written functions to extract patient timelines from the STARR OMOP database, then load it into Piton.\n",
    "\n",
    "We'll conclude by examining a couple patients' timelines for specific clinical events.\n",
    "\n",
    "#### Learning Goals\n",
    "1. Download STARR OMOP from BigQuery\n",
    "2. Initialize a Piton dataset from STARR OMOP"
   ]
  },
  {
   "cell_type": "markdown",
   "metadata": {},
   "source": [
    "## Downloading STARR OMOP"
   ]
  },
  {
   "cell_type": "markdown",
   "metadata": {},
   "source": []
  }
 ],
 "metadata": {
  "kernelspec": {
   "display_name": "Python 3.6.9 64-bit",
   "language": "python",
   "name": "python3"
  },
  "language_info": {
   "name": "python",
   "version": "3.6.9"
  },
  "orig_nbformat": 4,
  "vscode": {
   "interpreter": {
    "hash": "31f2aee4e71d21fbe5cf8b01ff0e069b9275f58929596ceb00d14d90e3e16cd6"
   }
  }
 },
 "nbformat": 4,
 "nbformat_minor": 2
}
