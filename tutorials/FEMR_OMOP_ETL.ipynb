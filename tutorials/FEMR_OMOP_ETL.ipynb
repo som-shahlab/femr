{
 "cells": [
  {
   "cell_type": "markdown",
   "id": "4764ef2d",
   "metadata": {},
   "source": [
    "# Creating a dataset with from OMOP\n",
    "\n",
    "In this tutorial, we will walk through how to generate a dataset from OMOP"
   ]
  }
 ],
 "metadata": {
  "kernelspec": {
   "display_name": "Python 3 (ipykernel)",
   "language": "python",
   "name": "python3"
  },
  "language_info": {
   "codemirror_mode": {
    "name": "ipython",
    "version": 3
   },
   "file_extension": ".py",
   "mimetype": "text/x-python",
   "name": "python",
   "nbconvert_exporter": "python",
   "pygments_lexer": "ipython3",
   "version": "3.10.11"
  }
 },
 "nbformat": 4,
 "nbformat_minor": 5
}
