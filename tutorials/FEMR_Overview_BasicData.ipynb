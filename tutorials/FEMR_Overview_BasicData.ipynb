{
 "cells": [
  {
   "cell_type": "markdown",
   "id": "4764ef2d",
   "metadata": {},
   "source": [
    "# Creating a dataset with a simple format \n",
    "In this tutorial, we will walk through how to generate a dataset using a simple input format that will work with some parts of the FEMR pipeline.\n",
    "\n",
    "First, we load in the example data in a CSV file that contains all the data. In reality, this `example.csv` can be a giant file that incldues all types of data. "
   ]
  },
  {
   "cell_type": "code",
   "execution_count": 2,
   "id": "07674f0d",
   "metadata": {},
   "outputs": [],
   "source": [
    "import os\n",
    "import csv\n",
    "import pandas as pd\n",
    "import shutil\n",
    "\n",
    "# Import the example dataset \n",
    "example_dat = pd.read_csv(\"example.csv\", sep=',')"
   ]
  },
  {
   "cell_type": "markdown",
   "id": "17c096e0",
   "metadata": {},
   "source": [
    "# 1. Basic input schema\n",
    "The input schema is a (folder of) csv file, where each csv file has <u>at minimum</u> the following columns:\n",
    "\n",
    "`patient_id`, `start`, `code`, and `value`\n",
    "\n",
    " - `patient_id` is the ID for the patient who has the event. `patient_id` must be a 64 bit unsigned integer\n",
    "\n",
    " - `start` is the start timestamp for an event, ideally when the event is initially recorded in the database. `start` must be an ISO 8601 timestamp string\n",
    "\n",
    " - `code` is a string that identifies what type of event occurred. It must consist of two parts, a vocabulary signfier and the code itself, seperated by a \"/\" character. For example ICD10CM/E11.4 would indicate an E11.4 ICD10 code.\n",
    "\n",
    " - `value` is a value associated with the event. It can either be a numeric value, an arbitrary string, or nothing.\n",
    "\n",
    "There are also some additional optional columns which apply to some EHR events but not others:\n",
    " \n",
    " - `visit_id` is a visit identifier indicating that the event is associated with a particular visit.\n",
    "\n",
    " - `end` is the end timestamp for an event. `end` must be an ISO 8601 timestamp string.\n",
    "\n",
    " - `dose` is a string indicating the dosage for a medication event.\n",
    " \n",
    " - `units` is a string indicating the units for a labratory result event.\n",
    "\n",
    "\n",
    "A single patient can be split across many files, with rows in any arbitrary order."
   ]
  },
  {
   "cell_type": "markdown",
   "id": "ad756f44",
   "metadata": {},
   "source": [
    "## Exercise 1: Add demographic information\n",
    "Now, we display `example_dat` that contains a single patient with three rows. \n",
    "\n",
    "We use patients' date of birth as the very first visit time in our data format, so the first event is always `Birth`\n",
    "\n",
    "Rows 2 and 3 include the demographic information, `Gender` and `Race`, respectively, of this patient with corresponding values. Demographics should generally be mapped as demographics codes assigned to the birth date of the patient (with no value assigned). For demographic rows, the vocabulary signifier and the code itself are the same."
   ]
  },
  {
   "cell_type": "code",
   "execution_count": 3,
   "id": "16a8caa5",
   "metadata": {},
   "outputs": [
    {
     "data": {
      "text/html": [
       "<div>\n",
       "<style scoped>\n",
       "    .dataframe tbody tr th:only-of-type {\n",
       "        vertical-align: middle;\n",
       "    }\n",
       "\n",
       "    .dataframe tbody tr th {\n",
       "        vertical-align: top;\n",
       "    }\n",
       "\n",
       "    .dataframe thead th {\n",
       "        text-align: right;\n",
       "    }\n",
       "</style>\n",
       "<table border=\"1\" class=\"dataframe\">\n",
       "  <thead>\n",
       "    <tr style=\"text-align: right;\">\n",
       "      <th></th>\n",
       "      <th>patient_id</th>\n",
       "      <th>start</th>\n",
       "      <th>code</th>\n",
       "      <th>value</th>\n",
       "      <th>units</th>\n",
       "      <th>dosage</th>\n",
       "    </tr>\n",
       "  </thead>\n",
       "  <tbody>\n",
       "    <tr>\n",
       "      <th>0</th>\n",
       "      <td>3</td>\n",
       "      <td>1970-01-07</td>\n",
       "      <td>Birth/Birth</td>\n",
       "      <td>NaN</td>\n",
       "      <td>NaN</td>\n",
       "      <td>NaN</td>\n",
       "    </tr>\n",
       "    <tr>\n",
       "      <th>1</th>\n",
       "      <td>3</td>\n",
       "      <td>1990-01-07</td>\n",
       "      <td>Gender/Gender</td>\n",
       "      <td>Female</td>\n",
       "      <td>NaN</td>\n",
       "      <td>NaN</td>\n",
       "    </tr>\n",
       "    <tr>\n",
       "      <th>2</th>\n",
       "      <td>3</td>\n",
       "      <td>1990-01-07</td>\n",
       "      <td>Race/Race</td>\n",
       "      <td>White</td>\n",
       "      <td>NaN</td>\n",
       "      <td>NaN</td>\n",
       "    </tr>\n",
       "  </tbody>\n",
       "</table>\n",
       "</div>"
      ],
      "text/plain": [
       "   patient_id       start           code   value units dosage\n",
       "0           3  1970-01-07    Birth/Birth     NaN   NaN    NaN\n",
       "1           3  1990-01-07  Gender/Gender  Female   NaN    NaN\n",
       "2           3  1990-01-07      Race/Race   White   NaN    NaN"
      ]
     },
     "execution_count": 3,
     "metadata": {},
     "output_type": "execute_result"
    }
   ],
   "source": [
    "example_dat.loc[0:2]"
   ]
  },
  {
   "cell_type": "markdown",
   "id": "33e2d7f1",
   "metadata": {},
   "source": [
    "# 2. Expanding your dataset\n",
    "You now show additional rows for other events present in your EHR records."
   ]
  },
  {
   "cell_type": "markdown",
   "id": "d41cb5d3",
   "metadata": {},
   "source": [
    "## Exercise 2: Add diagnosis information\n",
    "We now add more events/rows that capture patients' diagnosis information, e.g., ICD 9/10 codes\n",
    "\n",
    "For diagnosis, the `code` column has two parts, the vocabulary signifier (e.g., ICD10CM) and the code itself (e.g., E11.4, E10.1, etc.) The `value` column should be left as empty. Procedures and diagnosis codes should generally be mapped to when the event happened.\n",
    "\n",
    "Note that different diagnoses may be given at different visits, so the corresponding `start` timestamps may be different."
   ]
  },
  {
   "cell_type": "code",
   "execution_count": 4,
   "id": "d8623e63",
   "metadata": {},
   "outputs": [
    {
     "data": {
      "text/html": [
       "<div>\n",
       "<style scoped>\n",
       "    .dataframe tbody tr th:only-of-type {\n",
       "        vertical-align: middle;\n",
       "    }\n",
       "\n",
       "    .dataframe tbody tr th {\n",
       "        vertical-align: top;\n",
       "    }\n",
       "\n",
       "    .dataframe thead th {\n",
       "        text-align: right;\n",
       "    }\n",
       "</style>\n",
       "<table border=\"1\" class=\"dataframe\">\n",
       "  <thead>\n",
       "    <tr style=\"text-align: right;\">\n",
       "      <th></th>\n",
       "      <th>patient_id</th>\n",
       "      <th>start</th>\n",
       "      <th>code</th>\n",
       "      <th>value</th>\n",
       "      <th>units</th>\n",
       "      <th>dosage</th>\n",
       "    </tr>\n",
       "  </thead>\n",
       "  <tbody>\n",
       "    <tr>\n",
       "      <th>3</th>\n",
       "      <td>3</td>\n",
       "      <td>2022-05-03</td>\n",
       "      <td>ICD10CM/E11.4</td>\n",
       "      <td>NaN</td>\n",
       "      <td>NaN</td>\n",
       "      <td>NaN</td>\n",
       "    </tr>\n",
       "    <tr>\n",
       "      <th>4</th>\n",
       "      <td>3</td>\n",
       "      <td>2022-06-05</td>\n",
       "      <td>ICD10CM/E10.1</td>\n",
       "      <td>NaN</td>\n",
       "      <td>NaN</td>\n",
       "      <td>NaN</td>\n",
       "    </tr>\n",
       "  </tbody>\n",
       "</table>\n",
       "</div>"
      ],
      "text/plain": [
       "   patient_id       start           code value units dosage\n",
       "3           3  2022-05-03  ICD10CM/E11.4   NaN   NaN    NaN\n",
       "4           3  2022-06-05  ICD10CM/E10.1   NaN   NaN    NaN"
      ]
     },
     "execution_count": 4,
     "metadata": {},
     "output_type": "execute_result"
    }
   ],
   "source": [
    "example_dat.loc[3:4]"
   ]
  },
  {
   "cell_type": "markdown",
   "id": "d067acd6",
   "metadata": {},
   "source": [
    "## Exercise 3: Add lab test information\n",
    "We now add more events/rows that capture patients' lab values, e.g., Vitals/Blood Pressure\n",
    "\n",
    "For vitals, the `code` column has two parts, the vocabulary signifier (e.g., Vitals) and the code itself (e.g., Blood Pressure, HbA1c, etc.) The `value` column should contain corresponding numeric values when possible, but text valued otherwise.\n",
    "\n",
    "We also recommend adding another column, `units`, to record the units of each test result.\n",
    "\n",
    "Note that different lab tests may be given at different visits, so the corresponding `start` timestamps may differ."
   ]
  },
  {
   "cell_type": "code",
   "execution_count": 5,
   "id": "1f6e2f8f",
   "metadata": {},
   "outputs": [
    {
     "data": {
      "text/html": [
       "<div>\n",
       "<style scoped>\n",
       "    .dataframe tbody tr th:only-of-type {\n",
       "        vertical-align: middle;\n",
       "    }\n",
       "\n",
       "    .dataframe tbody tr th {\n",
       "        vertical-align: top;\n",
       "    }\n",
       "\n",
       "    .dataframe thead th {\n",
       "        text-align: right;\n",
       "    }\n",
       "</style>\n",
       "<table border=\"1\" class=\"dataframe\">\n",
       "  <thead>\n",
       "    <tr style=\"text-align: right;\">\n",
       "      <th></th>\n",
       "      <th>patient_id</th>\n",
       "      <th>start</th>\n",
       "      <th>code</th>\n",
       "      <th>value</th>\n",
       "      <th>units</th>\n",
       "      <th>dosage</th>\n",
       "    </tr>\n",
       "  </thead>\n",
       "  <tbody>\n",
       "    <tr>\n",
       "      <th>5</th>\n",
       "      <td>3</td>\n",
       "      <td>2020-07-09</td>\n",
       "      <td>Vitals/Blood Pressure</td>\n",
       "      <td>160</td>\n",
       "      <td>mmHg</td>\n",
       "      <td>NaN</td>\n",
       "    </tr>\n",
       "    <tr>\n",
       "      <th>6</th>\n",
       "      <td>3</td>\n",
       "      <td>2020-08-09</td>\n",
       "      <td>Vitals/HbA1c</td>\n",
       "      <td>7</td>\n",
       "      <td>NaN</td>\n",
       "      <td>%</td>\n",
       "    </tr>\n",
       "  </tbody>\n",
       "</table>\n",
       "</div>"
      ],
      "text/plain": [
       "   patient_id       start                   code value units dosage\n",
       "5           3  2020-07-09  Vitals/Blood Pressure   160  mmHg    NaN\n",
       "6           3  2020-08-09           Vitals/HbA1c     7   NaN      %"
      ]
     },
     "execution_count": 5,
     "metadata": {},
     "output_type": "execute_result"
    }
   ],
   "source": [
    "example_dat.loc[5:6]"
   ]
  },
  {
   "cell_type": "markdown",
   "id": "c647f26e",
   "metadata": {},
   "source": [
    "## Exercise 4: Add medication information\n",
    "We now add more events/rows that capture patients' medication intake info., e.g., Drug/Atorvastatin\n",
    "\n",
    "For medications, the `code` column has two parts, the vocabulary signifier (e.g., Drug) and the code itself (e.g., Atorvastatin, Heparin Lock Flush, Multivitamins, etc.) The `value` column should be empty.\n",
    "\n",
    "We add another column, `dosage`, to record the dose of the prescribed medication. For medications, the `units` column indicates the unit of the medication dose.\n",
    "\n",
    "Note that different lab tests may be given at different visits, so the corresponding `start` timestamps may differ."
   ]
  },
  {
   "cell_type": "code",
   "execution_count": 6,
   "id": "34d48166",
   "metadata": {},
   "outputs": [
    {
     "data": {
      "text/html": [
       "<div>\n",
       "<style scoped>\n",
       "    .dataframe tbody tr th:only-of-type {\n",
       "        vertical-align: middle;\n",
       "    }\n",
       "\n",
       "    .dataframe tbody tr th {\n",
       "        vertical-align: top;\n",
       "    }\n",
       "\n",
       "    .dataframe thead th {\n",
       "        text-align: right;\n",
       "    }\n",
       "</style>\n",
       "<table border=\"1\" class=\"dataframe\">\n",
       "  <thead>\n",
       "    <tr style=\"text-align: right;\">\n",
       "      <th></th>\n",
       "      <th>patient_id</th>\n",
       "      <th>start</th>\n",
       "      <th>code</th>\n",
       "      <th>value</th>\n",
       "      <th>units</th>\n",
       "      <th>dosage</th>\n",
       "    </tr>\n",
       "  </thead>\n",
       "  <tbody>\n",
       "    <tr>\n",
       "      <th>7</th>\n",
       "      <td>3</td>\n",
       "      <td>2022-06-05</td>\n",
       "      <td>Drug/Atorvastatin</td>\n",
       "      <td>NaN</td>\n",
       "      <td>mg</td>\n",
       "      <td>50</td>\n",
       "    </tr>\n",
       "    <tr>\n",
       "      <th>8</th>\n",
       "      <td>3</td>\n",
       "      <td>2022-07-06</td>\n",
       "      <td>Drug/Multivitamins</td>\n",
       "      <td>NaN</td>\n",
       "      <td>ml</td>\n",
       "      <td>5</td>\n",
       "    </tr>\n",
       "  </tbody>\n",
       "</table>\n",
       "</div>"
      ],
      "text/plain": [
       "   patient_id       start                code value units dosage\n",
       "7           3  2022-06-05   Drug/Atorvastatin   NaN    mg     50\n",
       "8           3  2022-07-06  Drug/Multivitamins   NaN    ml      5"
      ]
     },
     "execution_count": 6,
     "metadata": {},
     "output_type": "execute_result"
    }
   ],
   "source": [
    "example_dat.loc[7:8]"
   ]
  },
  {
   "cell_type": "markdown",
   "id": "3a204e78-b745-4806-94ea-8310b05990b3",
   "metadata": {},
   "source": [
    "## Exercise 5: Add note information\n",
    "We now add more events/rows that capture notes written about patients.\n",
    "\n",
    "For notes, the main consideration is that you often need quoting and escaping in order to process notes with quote characters, commas and newlines. \n",
    "\n",
    "We follow the [RFC 4180 spec](https://www.loc.gov/preservation/digital/formats/fdd/fdd000323.shtml#:~:text=RFC%204180%20stipulates%20the%20use,double%20quotes%20(Hex%2022).) for escaping, which is the default format for the Python csv library."
   ]
  },
  {
   "cell_type": "code",
   "execution_count": 7,
   "id": "70528d33",
   "metadata": {},
   "outputs": [
    {
     "data": {
      "text/html": [
       "<div>\n",
       "<style scoped>\n",
       "    .dataframe tbody tr th:only-of-type {\n",
       "        vertical-align: middle;\n",
       "    }\n",
       "\n",
       "    .dataframe tbody tr th {\n",
       "        vertical-align: top;\n",
       "    }\n",
       "\n",
       "    .dataframe thead th {\n",
       "        text-align: right;\n",
       "    }\n",
       "</style>\n",
       "<table border=\"1\" class=\"dataframe\">\n",
       "  <thead>\n",
       "    <tr style=\"text-align: right;\">\n",
       "      <th></th>\n",
       "      <th>patient_id</th>\n",
       "      <th>start</th>\n",
       "      <th>code</th>\n",
       "      <th>value</th>\n",
       "      <th>units</th>\n",
       "      <th>dosage</th>\n",
       "    </tr>\n",
       "  </thead>\n",
       "  <tbody>\n",
       "    <tr>\n",
       "      <th>9</th>\n",
       "      <td>3</td>\n",
       "      <td>2022-06-05</td>\n",
       "      <td>Note/ProgressNote</td>\n",
       "      <td>Patient Bob came to the clinic today</td>\n",
       "      <td>NaN</td>\n",
       "      <td>NaN</td>\n",
       "    </tr>\n",
       "    <tr>\n",
       "      <th>10</th>\n",
       "      <td>3</td>\n",
       "      <td>2022-06-06</td>\n",
       "      <td>Note/ProgressNote</td>\n",
       "      <td>Complicated notes generally need escaping , \" ...</td>\n",
       "      <td>NaN</td>\n",
       "      <td>NaN</td>\n",
       "    </tr>\n",
       "  </tbody>\n",
       "</table>\n",
       "</div>"
      ],
      "text/plain": [
       "    patient_id       start               code   \n",
       "9            3  2022-06-05  Note/ProgressNote  \\\n",
       "10           3  2022-06-06  Note/ProgressNote   \n",
       "\n",
       "                                                value units dosage  \n",
       "9                Patient Bob came to the clinic today   NaN    NaN  \n",
       "10  Complicated notes generally need escaping , \" ...   NaN    NaN  "
      ]
     },
     "execution_count": 7,
     "metadata": {},
     "output_type": "execute_result"
    }
   ],
   "source": [
    "example_dat.loc[9:10]"
   ]
  },
  {
   "cell_type": "markdown",
   "id": "c558edb7",
   "metadata": {},
   "source": [
    "# 3. Additional considerations\n",
    "When adding columns, the goal is to add as many columns as needed to maximum the clarity and completeness of the raw/original data. \n",
    "\n",
    "For simplicity, we only included one patient in the above datasets, but an arbitrary number of patients can be captured in the same file by adding more rows with different `patient_id`.\n",
    "\n",
    "\n",
    "## Exercise 6: Generate synthetic examples\n",
    "We now create a dataset with 100 synthetic patients' data"
   ]
  },
  {
   "cell_type": "code",
   "execution_count": 7,
   "id": "ef876289",
   "metadata": {},
   "outputs": [],
   "source": [
    "import random\n",
    "import datetime\n",
    "import string\n",
    "\n",
    "def add_random_patient(patient_id, f):\n",
    "    epoch = datetime.date(1990, 1, 1)\n",
    "    birth = epoch + datetime.timedelta(days=random.randint(100, 1000))\n",
    "    current_date = birth\n",
    "    \n",
    "    code_cat = [\"Birth\",\"Gender\", \"Race\",\"ICD10CM\",\"CPT\", \"Drug\", \"Vitals\"]\n",
    "    gender_values = [\"F\",\"M\"]\n",
    "    race_values = [\"White\",\"Non-White\"]\n",
    "    index = random.randint(0,1)\n",
    "    for code_type in code_cat:\n",
    "        if code_type == \"Birth\":\n",
    "            clarity = \"PATIENT\"\n",
    "            visit_id = 1\n",
    "            value = ''\n",
    "            dosage = ''\n",
    "            unit = ''\n",
    "            f.write(f\"{patient_id},{birth.isoformat()},{code_type}/{code_type},{value},{dosage},{visit_id},{unit},{clarity}\\n\")\n",
    "        elif code_type == \"Gender\":\n",
    "            clarity = \"PATIENT\"\n",
    "            visit_id = 1\n",
    "            value = gender_values[index]\n",
    "            dosage = ''\n",
    "            unit = ''\n",
    "            f.write(f\"{patient_id},{birth.isoformat()},{code_type}/{code_type},{value},{dosage},{visit_id},{unit},{clarity}\\n\")\n",
    "        elif code_type == \"Race\":\n",
    "            clarity = \"PATIENT\"\n",
    "            visit_id = 1\n",
    "            value = race_values[index]\n",
    "            dosage = ''\n",
    "            unit = ''\n",
    "            f.write(f\"{patient_id},{birth.isoformat()},{code_type}/{code_type},{value},{dosage},{visit_id},{unit},{clarity}\\n\") \n",
    "        else:\n",
    "            for code in range(random.randint(1, 10)):\n",
    "                code = ''.join(random.choices(string.ascii_uppercase + string.digits, k=8))\n",
    "                current_date = current_date +  datetime.timedelta(days=random.randint(0, 100))\n",
    "                visit_id = random.randint(0,20)\n",
    "                if code_type == \"ICD10CM\":\n",
    "                    clarity = \"DIAGNOSIS\"\n",
    "                    value = ''\n",
    "                    dosage = ''\n",
    "                    unit = ''\n",
    "                elif code_type == \"CPT\":\n",
    "                    clarity = \"PROCEDURES\"\n",
    "                    value = ''\n",
    "                    dosage = ''\n",
    "                    unit = ''\n",
    "                elif code_type == \"Drug\":\n",
    "                    clarity = \"MED_ORDER\"\n",
    "                    value = ''\n",
    "                    dosage = random.randint(10,50)\n",
    "                    unit = \"mg\"\n",
    "                elif code_type == \"Vitals\":\n",
    "                    clarity = \"LAB_RESULT\"\n",
    "                    value = random.randint(80,200)\n",
    "                    dosage = ''\n",
    "                    unit = \"mmHg\"\n",
    "                f.write(f\"{patient_id},{current_date.isoformat()},{code_type}/{code},{value},{dosage},{visit_id},{unit},{clarity}\\n\") \n"
   ]
  },
  {
   "cell_type": "code",
   "execution_count": 8,
   "id": "e1bbf7f4",
   "metadata": {},
   "outputs": [
    {
     "name": "stdout",
     "output_type": "stream",
     "text": [
      "patient_id,start,code,value,dosage,visit_ids,lab_units,clarity_source\n",
      "100,1990-08-09,Birth/Birth,,,1,,PATIENT\n",
      "100,1990-08-09,Gender/Gender,M,,1,,PATIENT\n",
      "100,1990-08-09,Race/Race,Non-White,,1,,PATIENT\n",
      "100,1990-10-28,ICD10CM/DNFJ5IDL,,,4,,DIAGNOSIS\n",
      "100,1990-11-19,ICD10CM/7D02JHHM,,,17,,DIAGNOSIS\n",
      "100,1990-11-19,ICD10CM/SHJQD6GA,,,14,,DIAGNOSIS\n",
      "100,1991-02-04,ICD10CM/0ZT3UU66,,,18,,DIAGNOSIS\n",
      "100,1991-03-28,ICD10CM/TC7ZWA0S,,,5,,DIAGNOSIS\n",
      "100,1991-06-16,ICD10CM/27NHK4XA,,,13,,DIAGNOSIS\n"
     ]
    }
   ],
   "source": [
    "for file_no in range(1, 3):\n",
    "    with open(\"many_examples.csv\", \"w\") as f:    \n",
    "        # Use the simpler 4 column minimum format, with no optional columns\n",
    "        f.write(\"patient_id,start,code,value,dosage,visit_ids,lab_units,clarity_source\\n\")\n",
    "        for patient_id in range(file_no * 100, (file_no + 1) * 100):\n",
    "            add_random_patient(patient_id, f)\n",
    "        \n",
    "        if file_no == 1:\n",
    "            with open(os.path.join(INPUT_DIR, f\"{file_no}.csv\"), newline='') as csvfile:\n",
    "                reader = csv.reader(csvfile, delimiter=' ', quotechar='|')\n",
    "                for i, row in enumerate(reader):\n",
    "                    print(', '.join(row))\n",
    "                    if(i >= 9):\n",
    "                        break"
   ]
  },
  {
   "cell_type": "markdown",
   "id": "66bb61c9",
   "metadata": {},
   "source": [
    "# Additional notes\n",
    "Ordering of rows for each patient, or patient rows being split across files doesn't matter. Everything will be resorted and joined as part of the ETL process.\n",
    "\n",
    "Other atypical datatypes, such as flowsheets can be added as needed, with either string or numeric values as whatever is more natural.\n",
    "\n",
    "## 4. Convert the directory to an extract\n",
    "We now convert the dataset we created above to an extract using the function [etl_simple_femr](https://github.com/som-shahlab/femr/blob/main/src/femr/etl_pipelines/simple.py#L66) from the femr repo\n",
    "\n",
    "We need to first create folders to save the dataset and associated files "
   ]
  },
  {
   "cell_type": "code",
   "execution_count": 21,
   "id": "56b79539",
   "metadata": {},
   "outputs": [],
   "source": [
    "TARGET_DIR = \"trash/simple_femr\"\n",
    "\n",
    "if os.path.exists(TARGET_DIR):\n",
    "    shutil.rmtree(TARGET_DIR)\n",
    "\n",
    "os.makedirs(TARGET_DIR)\n",
    "\n",
    "INPUT_DIR = os.path.join(TARGET_DIR, \"simple_input\")\n",
    "os.makedirs(INPUT_DIR)"
   ]
  },
  {
   "cell_type": "markdown",
   "id": "aadbb464",
   "metadata": {},
   "source": [
    "We now move/copy the `example.csv` into the `INPUT_DIR` folder\n",
    "\n",
    "The output extract is a femr [PatientDatabase](https://github.com/som-shahlab/femr/blob/Miking98-patch-1/tutorials/0_How%20FEMR%20Works%20%2B%20Toy%20Example.ipynb) that can be directly used by the femr pipeline"
   ]
  },
  {
   "cell_type": "code",
   "execution_count": 22,
   "id": "11a961b6",
   "metadata": {},
   "outputs": [
    {
     "name": "stdout",
     "output_type": "stream",
     "text": [
      "Done with main 2023-04-20T17:09:28.48974651+00:00\n",
      "Done with meta 2023-04-20T17:09:28.489844269+00:00\n",
      "Converting to extract 2023-04-20 17:09:28.475023\n"
     ]
    },
    {
     "name": "stderr",
     "output_type": "stream",
     "text": [
      "2023-04-20 17:09:28,436 [MainThread  ] [INFO ]  Extracting from OMOP with arguments Namespace(simple_source='trash/simple_femr/simple_input', target_location='/local-scratch/nigam/projects/yizhex/femr/tutorials/trash/simple_femr/extract', temp_location='/local-scratch/nigam/projects/yizhex/femr/tutorials/trash/simple_femr/logs', num_threads=2)\n",
      "2023-04-20 17:09:28,436 [MainThread  ] [INFO ]  Converting to events\n",
      "2023-04-20 17:09:28,460 [MainThread  ] [INFO ]  Converting to patients\n",
      "2023-04-20 17:09:28,474 [MainThread  ] [INFO ]  Converting to extract\n"
     ]
    },
    {
     "data": {
      "text/plain": [
       "0"
      ]
     },
     "execution_count": 22,
     "metadata": {},
     "output_type": "execute_result"
    }
   ],
   "source": [
    "# Create directories for storing the extract and extract log\n",
    "LOG_DIR = os.path.join(TARGET_DIR, \"logs\")\n",
    "EXTRACT_DIR = os.path.join(TARGET_DIR, \"extract\")\n",
    "\n",
    "import femr\n",
    "import femr.etl_pipelines.simple\n",
    "os.system(f\"etl_simple_femr {INPUT_DIR} {EXTRACT_DIR} {LOG_DIR} --num_threads 2\")"
   ]
  },
  {
   "cell_type": "markdown",
   "id": "eb90d476",
   "metadata": {},
   "source": [
    "# 5. Open and view the data\n",
    "We now open and take a look at the femr extract we generated in the last step using the function [PatientDatabase](https://github.com/som-shahlab/femr/blob/main/src/femr/extension/datasets.pyi#L24) from the femr repo"
   ]
  },
  {
   "cell_type": "code",
   "execution_count": 24,
   "id": "da3aac36",
   "metadata": {},
   "outputs": [
    {
     "name": "stdout",
     "output_type": "stream",
     "text": [
      "Num patients 1\n",
      "Patient(patient_id=0, events=(Event(start=1970-01-07 00:00:00, code=6, units=, dosage=), Event(start=1990-01-07 00:00:00, code=0, value=Female, units=, dosage=), Event(start=1990-01-07 00:00:00, code=8, value=White, units=, dosage=), Event(start=2020-07-09 00:00:00, code=9, value=160.0, units=mmHg, dosage=), Event(start=2020-08-09 00:00:00, code=7, value=7.0, units=, dosage=%), Event(start=2022-05-03 00:00:00, code=5, units=, dosage=), Event(start=2022-06-05 00:00:00, code=3, value=Patient Bob came to the clinic today, units=, dosage=), Event(start=2022-06-05 00:00:00, code=4, units=, dosage=), Event(start=2022-06-05 00:00:00, code=2, units=mg, dosage=50), Event(start=2022-07-06 00:00:00, code=1, units=ml, dosage=5)))\n",
      "What code 3 means Note/ProgressNote\n",
      "Event(start=1970-01-07 00:00:00, code=6, units=, dosage=) \n",
      "Event(start=1990-01-07 00:00:00, code=0, value=Female, units=, dosage=) \n",
      "Event(start=1990-01-07 00:00:00, code=8, value=White, units=, dosage=) \n",
      "Event(start=2020-07-09 00:00:00, code=9, value=160.0, units=mmHg, dosage=) \n",
      "Event(start=2020-08-09 00:00:00, code=7, value=7.0, units=, dosage=%) %\n",
      "Event(start=2022-05-03 00:00:00, code=5, units=, dosage=) \n",
      "Event(start=2022-06-05 00:00:00, code=3, value=Patient Bob came to the clinic today, units=, dosage=) \n",
      "Event(start=2022-06-05 00:00:00, code=4, units=, dosage=) \n",
      "Event(start=2022-06-05 00:00:00, code=2, units=mg, dosage=50) 50\n",
      "Event(start=2022-07-06 00:00:00, code=1, units=ml, dosage=5) 5\n"
     ]
    }
   ],
   "source": [
    "import femr.datasets\n",
    "\n",
    "database = femr.datasets.PatientDatabase(EXTRACT_DIR)\n",
    "\n",
    "# Number of patients\n",
    "print(\"Num patients\", len(database))\n",
    "\n",
    "# Print out patient_id 0 (the first example patient we created)\n",
    "patient = database[0]\n",
    "print(patient)\n",
    "\n",
    "# Also note that concepts have been mapped to integers\n",
    "print(\"What code 3 means\", database.get_code_dictionary()[3])  # Returns what code=3 means in the database\n",
    "\n",
    "# You can pull things like dosage by looking at the event\n",
    "for event in patient.events:\n",
    "    print(event, event.dosage)"
   ]
  },
  {
   "cell_type": "code",
   "execution_count": null,
   "id": "e298dcab",
   "metadata": {},
   "outputs": [],
   "source": []
  }
 ],
 "metadata": {
  "kernelspec": {
   "display_name": "Python 3 (ipykernel)",
   "language": "python",
   "name": "python3"
  },
  "language_info": {
   "codemirror_mode": {
    "name": "ipython",
    "version": 3
   },
   "file_extension": ".py",
   "mimetype": "text/x-python",
   "name": "python",
   "nbconvert_exporter": "python",
   "pygments_lexer": "ipython3",
   "version": "3.10.10"
  }
 },
 "nbformat": 4,
 "nbformat_minor": 5
}
