{
 "cells": [
  {
   "cell_type": "markdown",
   "id": "4764ef2d",
   "metadata": {},
   "source": [
    "# Creating a PatientDatabase from OMOP format data\n",
    "\n",
    "In this tutorial, we will walk through how to generate a dataset from OMOP 5.4 data. This is the recommend route for using FEMR, and most of the functionality assumes data has been processed in this manner."
   ]
  },
  {
   "cell_type": "markdown",
   "id": "96afc351-fe71-49f2-93cc-914b89b94917",
   "metadata": {},
   "source": [
    "Using this converter is very simple, simply convert your OMOP database into csvs, and feed the folder with those csvs to FEMR.\n",
    "\n",
    "Each table in OMOP should correspond to either a file \"table_name.csv\" or a folder \"table_name\", where \"table_name\" is the name of the table. If a folder is provided, that folder must contain CSV files for that table."
   ]
  },
  {
   "cell_type": "code",
   "execution_count": 1,
   "id": "37b3ba85-385c-438a-b7e1-e4d3dd6abc08",
   "metadata": {},
   "outputs": [
    {
     "name": "stdout",
     "output_type": "stream",
     "text": [
      "['concept.csv', 'person.csv', 'concept_relationship.csv', 'observation']\n"
     ]
    }
   ],
   "source": [
    "import os\n",
    "\n",
    "INPUT_DIR = 'input/omop'\n",
    "\n",
    "# We have a csv file or folder for every table.\n",
    "print(os.listdir(INPUT_DIR))"
   ]
  },
  {
   "cell_type": "code",
   "execution_count": 2,
   "id": "981ad7b3-c1f5-419a-bc16-a9dc56393750",
   "metadata": {},
   "outputs": [
    {
     "name": "stdout",
     "output_type": "stream",
     "text": [
      "Could not find any files for extractor _ConceptTableConverter(prefix='drug_exposure', file_suffix='', concept_id_field='drug_concept_id', string_value_field=None, numeric_value_field=None)\n",
      "Could not find any files for extractor _ConceptTableConverter(prefix='visit', file_suffix='occurrence', concept_id_field=None, string_value_field=None, numeric_value_field=None)\n",
      "Could not find any files for extractor _ConceptTableConverter(prefix='condition', file_suffix='occurrence', concept_id_field=None, string_value_field=None, numeric_value_field=None)\n",
      "Could not find any files for extractor _ConceptTableConverter(prefix='death', file_suffix='', concept_id_field='death_type_concept_id', string_value_field=None, numeric_value_field=None)\n",
      "Could not find any files for extractor _ConceptTableConverter(prefix='procedure', file_suffix='occurrence', concept_id_field=None, string_value_field=None, numeric_value_field=None)\n",
      "Could not find any files for extractor _ConceptTableConverter(prefix='device_exposure', file_suffix='', concept_id_field='device_concept_id', string_value_field=None, numeric_value_field=None)\n",
      "Could not find any files for extractor _ConceptTableConverter(prefix='measurement', file_suffix='', concept_id_field=None, string_value_field='value_source_value', numeric_value_field='value_as_number')\n",
      "Could not find any files for extractor _ConceptTableConverter(prefix='note', file_suffix='', concept_id_field='note_class_concept_id', string_value_field='note_text', numeric_value_field=None)\n",
      "Could not find any files for extractor _ConceptTableConverter(prefix='visit_detail', file_suffix='', concept_id_field=None, string_value_field=None, numeric_value_field=None)\n",
      "Could not find the following concept_id in any of the concept tables4216316Done with main 2023-07-08T12:27:08.898453264+00:00\n",
      "Done with meta 2023-07-08T12:27:08.898551961+00:00\n",
      "Converting to extract 2023-07-08 12:27:08.882033\n"
     ]
    },
    {
     "name": "stderr",
     "output_type": "stream",
     "text": [
      "2023-07-08 12:27:08,791 [MainThread  ] [INFO ]  Extracting from OMOP with arguments Namespace(omop_source='input/omop', target_location='/home/ethan/femr/tutorials/trash/tutorial_2a/extract', temp_location='/home/ethan/femr/tutorials/trash/tutorial_2a/logs', num_threads=2)\n",
      "2023-07-08 12:27:08,791 [MainThread  ] [INFO ]  Converting to events\n",
      "2023-07-08 12:27:08,830 [MainThread  ] [INFO ]  Got converter statistics {'person': defaultdict(<class 'int'>, {'input_rows': 100, 'valid_rows': 100, 'valid_events': 200}), 'observation': defaultdict(<class 'int'>, {'input_rows': 2000, 'valid_rows': 2000, 'valid_events': 2000})}\n",
      "2023-07-08 12:27:08,831 [MainThread  ] [INFO ]  Converting to patients\n",
      "2023-07-08 12:27:08,848 [MainThread  ] [INFO ]  Appling transformations\n",
      "2023-07-08 12:27:08,881 [MainThread  ] [INFO ]  Got transform statistics {'<function remove_nones at 0x7fe8f31627a0>': defaultdict(<class 'int'>, {'lost_events': 0}), '<function delta_encode at 0x7fe8f3162830>': defaultdict(<class 'int'>, {'lost_events': 0})}\n",
      "2023-07-08 12:27:08,881 [MainThread  ] [INFO ]  Converting to extract\n"
     ]
    },
    {
     "data": {
      "text/plain": [
       "0"
      ]
     },
     "execution_count": 2,
     "metadata": {},
     "output_type": "execute_result"
    }
   ],
   "source": [
    "import shutil\n",
    "import os\n",
    "\n",
    "TARGET_DIR = 'trash/tutorial_2a'\n",
    "\n",
    "if os.path.exists(TARGET_DIR):\n",
    "    shutil.rmtree(TARGET_DIR)\n",
    "\n",
    "os.mkdir(TARGET_DIR)\n",
    "\n",
    "# Create directories for storing the extract and extract log\n",
    "LOG_DIR = os.path.join(TARGET_DIR, \"logs\")\n",
    "EXTRACT_DIR = os.path.join(TARGET_DIR, \"extract\")\n",
    "\n",
    "import femr\n",
    "import femr.etl_pipelines.simple\n",
    "os.system(f\"etl_generic_omop {INPUT_DIR} {EXTRACT_DIR} {LOG_DIR} --num_threads 2\")"
   ]
  },
  {
   "cell_type": "markdown",
   "id": "4682bb71-073f-4079-af1c-f09ccec655ac",
   "metadata": {},
   "source": [
    "# Open and view the data\n",
    "We now open and take a look at the femr extract we generated in the last step using the PatientDatabase class (https://github.com/som-shahlab/femr/blob/main/src/femr/extension/datasets.pyi#L24)"
   ]
  },
  {
   "cell_type": "code",
   "execution_count": 3,
   "id": "55816ae5-eb36-4eea-985f-0e199588d75d",
   "metadata": {},
   "outputs": [
    {
     "name": "stdout",
     "output_type": "stream",
     "text": [
      "Num patients 99\n",
      "Patient(patient_id=3, events=(Event(start=1979-01-01 00:00:00, code=Gender/M, value=None, omop_table=person), Event(start=1979-01-01 00:00:00, code=INVALID/4216316, value=None, omop_table=person), Event(start=1979-05-07 00:00:00, code=CODE/3543, value=None, omop_table=observation), Event(start=1979-10-21 00:00:00, code=CODE/4319, value=None, omop_table=observation), Event(start=1980-05-02 00:00:00, code=CODE/3283, value=None, omop_table=observation), Event(start=1980-09-01 00:00:00, code=CODE/2191, value=None, omop_table=observation), Event(start=1980-12-10 00:00:00, code=CODE/3892, value=None, omop_table=observation), Event(start=1981-05-16 00:00:00, code=CODE/2572, value=None, omop_table=observation), Event(start=1981-11-06 00:00:00, code=CODE/2911, value=None, omop_table=observation), Event(start=1982-05-14 00:00:00, code=CODE/2599, value=None, omop_table=observation), Event(start=1982-09-29 00:00:00, code=CODE/3411, value=None, omop_table=observation), Event(start=1983-04-13 00:00:00, code=CODE/3539, value=None, omop_table=observation), Event(start=1983-09-04 00:00:00, code=CODE/1285, value=None, omop_table=observation), Event(start=1984-02-11 00:00:00, code=CODE/2614, value=None, omop_table=observation), Event(start=1984-08-26 00:00:00, code=CODE/4109, value=None, omop_table=observation), Event(start=1984-12-13 00:00:00, code=CODE/4739, value=None, omop_table=observation), Event(start=1985-05-31 00:00:00, code=CODE/2226, value=None, omop_table=observation), Event(start=1985-10-29 00:00:00, code=CODE/2753, value=None, omop_table=observation), Event(start=1986-04-30 00:00:00, code=CODE/2868, value=None, omop_table=observation), Event(start=1986-09-30 00:00:00, code=CODE/3329, value=None, omop_table=observation), Event(start=1987-03-03 00:00:00, code=CODE/3407, value=None, omop_table=observation), Event(start=1987-08-15 00:00:00, code=CODE/1211, value=None, omop_table=observation)))\n"
     ]
    }
   ],
   "source": [
    "import femr.datasets\n",
    "\n",
    "database = femr.datasets.PatientDatabase(EXTRACT_DIR)\n",
    "\n",
    "# Number of patients\n",
    "print(\"Num patients\", len(database))\n",
    "\n",
    "# Print out an example of patient_id 3\n",
    "patient = database[3]\n",
    "print(patient)"
   ]
  }
 ],
 "metadata": {
  "kernelspec": {
   "display_name": "Python 3 (ipykernel)",
   "language": "python",
   "name": "python3"
  },
  "language_info": {
   "codemirror_mode": {
    "name": "ipython",
    "version": 3
   },
   "file_extension": ".py",
   "mimetype": "text/x-python",
   "name": "python",
   "nbconvert_exporter": "python",
   "pygments_lexer": "ipython3",
   "version": "3.10.12"
  }
 },
 "nbformat": 4,
 "nbformat_minor": 5
}
