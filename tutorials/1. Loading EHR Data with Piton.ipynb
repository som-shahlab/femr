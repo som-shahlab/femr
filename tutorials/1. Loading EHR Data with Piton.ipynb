{
 "cells": [
  {
   "cell_type": "markdown",
   "metadata": {},
   "source": [
    "# Loading EHR Data with Piton\n",
    "\n",
    "In this notebook, we go through a toy example of using Piton on a custom dataset. \n",
    "\n",
    "We will define a set of patients who have a unique set of associated clinical events, and then initialize a Piton dataset with this data. \n",
    "\n",
    "Before going through this tutorial, please make sure you've installed **piton** as detailed in the [README.md](https://github.com/som-shahlab/piton)\n",
    "\n",
    "#### Learning Goals\n",
    "1. Learn how to use the two main Piton datatypes: `Patient` and `Event`.\n",
    "2. Initialize a Piton dataset from scratch with custom data.\n",
    "3. Understand the three steps of the Piton data pipeline: `EventCollection` => `PatientCollection` => `PatientDatabase`"
   ]
  },
  {
   "cell_type": "code",
   "execution_count": 7,
   "metadata": {},
   "outputs": [],
   "source": [
    "import datetime\n",
    "import os\n",
    "import contextlib\n",
    "import piton\n",
    "import piton.datasets"
   ]
  },
  {
   "cell_type": "markdown",
   "metadata": {},
   "source": [
    "# 0. Overview of **Piton**"
   ]
  },
  {
   "cell_type": "markdown",
   "metadata": {},
   "source": [
    "The **piton** workflow of creating patient timelines from an EHR dataset is as follows:\n",
    "\n",
    "1. Extract clinical events from the source EHR database. This could be OMOP-CDM, MIMIC-III, eICU, etc.\n",
    "    * This code is specific to the source EHR database, and is not covered in this tutorial.\n",
    "    * We have already written extractors for some popular EHR databases in the `src/piton/extractors` folder.\n",
    "2. Write these extracted events to disk as an `EventCollection`. \n",
    "    * In an abstract sense, an `EventCollection` is simply an unordered list of `(Patient ID, Event)` tuples. \n",
    "    * Internally, **piton** will shard these tuples across a set of files on disk that will be stored in a single folder, but you don't need to worry about that.\n",
    "3. Transform the `EventCollection` into a `PatientCollection`. \n",
    "    * In an abstract sense, a `PatientCollection` is a **sorted** list of `(Patient ID, Event)` tuples, where the sorting is done first by `Patient ID`, second by the `start` time of each `Event`. \n",
    "    * Internally, **piton** will shard these consecutively arranged tuples across a set of files on disk that will be stored in a single folder, but you don't need to worry about that.\n",
    "4. Apply transformations to your patient timelines (e.g. move coding assignments to the end of their visits, move all events before a patient's birthdate to after their birthdate, etc.) that you want to your `PatientCollection` to generate a new `PatientCollection`.\n",
    "5. Index and save your `PatientCollection` to disk as a `PatientDatabase`.\n",
    "    * In an abstract sense, a `PatientDatabase` lets you quickly retrieve all the events for a given patient ID. \n",
    "    * Internally, **piton** will create another set of indexes and files on disk that will be stored in a single folder, but you don't need to worry about that.\n",
    "\n",
    "Note that everything is done on disk (i.e. not in memory), so you can work with arbitrarily large datasets. \n",
    "\n",
    "However, this means that you must specify the location of the folders where you want to store your `EventCollection`, `PatientCollection`, and `PatientDatabase` on disk."
   ]
  },
  {
   "cell_type": "markdown",
   "metadata": {},
   "source": [
    "## 1. Define our dataset with `Patient` and `Event` objects"
   ]
  },
  {
   "cell_type": "markdown",
   "metadata": {},
   "source": [
    "#### Patients\n",
    "\n",
    "Piton represents every patient with the `Patient` class. \n",
    "\n",
    "A `Patient` object contains the following two attributes:\n",
    "\n",
    "* `patient_id` (str): a unique identifier for the patient\n",
    "* `events` (list): a list of `Event` objects associated with that patient\n",
    "\n",
    "The definition of the `Patient` class can be [found here](https://github.com/som-shahlab/piton/blob/main/src/piton/__init__.py#L11)\n",
    "\n",
    "#### Events\n",
    "\n",
    "Piton represents clinical events with the `Event` object.\n",
    "\n",
    "An `Event` object can contain any number of arbitrary attributes, but it must have at least the following two attributes:\n",
    "\n",
    "* `start` (datetime.datetime): the start time of the event\n",
    "* `code` (int): the code that Piton associates with events of the same type\n",
    "\n",
    "The definition of the `Event` class can be [found here](https://github.com/som-shahlab/piton/blob/main/src/piton/__init__.py#L22)\n"
   ]
  },
  {
   "cell_type": "markdown",
   "metadata": {},
   "source": [
    "Below, we'll create some events for some fictional patients."
   ]
  },
  {
   "cell_type": "code",
   "execution_count": 2,
   "metadata": {},
   "outputs": [],
   "source": [
    "events = [\n",
    "    # This event contains the bare minimum attributes -- start and code.\n",
    "    piton.Event(\n",
    "        start=datetime.datetime(2010, 1, 5),\n",
    "        code=2,\n",
    "    ),\n",
    "    # This event contains a couple custom attributes -- value and source_table.\n",
    "    piton.Event(\n",
    "        start=datetime.datetime(2010, 1, 3, hour=10, minute=45),\n",
    "        code=2,\n",
    "        value=\"test_value\",\n",
    "        source_table=None,\n",
    "    ),\n",
    "    # This event contains even more attributes.\n",
    "    piton.Event(\n",
    "        start=datetime.datetime(2010, 1, 3, hour=10, minute=30),\n",
    "        code=0,\n",
    "        value=34.0,\n",
    "        source_table='visit',\n",
    "        extra_attr=True,\n",
    "    ),\n",
    "]"
   ]
  },
  {
   "cell_type": "markdown",
   "metadata": {},
   "source": [
    "Now that we have our events, let's create a couple fictional patients."
   ]
  },
  {
   "cell_type": "code",
   "execution_count": 3,
   "metadata": {},
   "outputs": [
    {
     "data": {
      "text/plain": [
       "[Event(start=2010-01-05 00:00:00, code=2),\n",
       " Event(start=2010-01-03 10:45:00, code=2, value=test_value)]"
      ]
     },
     "execution_count": 3,
     "metadata": {},
     "output_type": "execute_result"
    }
   ],
   "source": [
    "patients = [\n",
    "    # Let's assign each patient a subset of our events for example purposes.\n",
    "    piton.Patient(patient_id=0, events=events[:2]),\n",
    "    piton.Patient(patient_id=1, events=events[1:]),\n",
    "    piton.Patient(patient_id=10, events=events),\n",
    "]\n",
    "\n",
    "# Lets print out the events of one patient to see what they look like.\n",
    "# Note that attributes associated with `None` (i.e. `source_table` in the \n",
    "# second event) won't be printed out, but they are still tracked internally by Piton.\n",
    "patients[0].events"
   ]
  },
  {
   "cell_type": "markdown",
   "metadata": {},
   "source": [
    "We can access a specific event's attributes as follows. Note that accessing an attribute that wasn't defined on an event will return `None` by default (rather than raise an exception)."
   ]
  },
  {
   "cell_type": "code",
   "execution_count": 4,
   "metadata": {},
   "outputs": [
    {
     "name": "stdout",
     "output_type": "stream",
     "text": [
      "Patient 0:\n",
      "    Event #0:\n",
      "       Start = 2010-01-05 00:00:00 | Code = 2 | Value = None | Source Table = None | Extra Attr = None\n",
      "    Event #1:\n",
      "       Start = 2010-01-03 10:45:00 | Code = 2 | Value = test_value | Source Table = None | Extra Attr = None\n",
      "Patient 1:\n",
      "    Event #0:\n",
      "       Start = 2010-01-03 10:45:00 | Code = 2 | Value = test_value | Source Table = None | Extra Attr = None\n",
      "    Event #1:\n",
      "       Start = 2010-01-03 10:30:00 | Code = 0 | Value = 34.0 | Source Table = visit | Extra Attr = True\n",
      "Patient 10:\n",
      "    Event #0:\n",
      "       Start = 2010-01-05 00:00:00 | Code = 2 | Value = None | Source Table = None | Extra Attr = None\n",
      "    Event #1:\n",
      "       Start = 2010-01-03 10:45:00 | Code = 2 | Value = test_value | Source Table = None | Extra Attr = None\n",
      "    Event #2:\n",
      "       Start = 2010-01-03 10:30:00 | Code = 0 | Value = 34.0 | Source Table = visit | Extra Attr = True\n"
     ]
    }
   ],
   "source": [
    "for patient in patients:\n",
    "    print(f\"Patient {patient.patient_id}:\")\n",
    "    for idx, event in enumerate(patient.events):\n",
    "        print(f\"    Event #{idx}:\")\n",
    "        print(f\"       Start = {event.start} | Code = {event.code} | Value = {event.value} | Source Table = {event.source_table} | Extra Attr = {event.extra_attr}\")"
   ]
  },
  {
   "cell_type": "markdown",
   "metadata": {},
   "source": [
    "## 2. Create an `EventCollection` from our events"
   ]
  },
  {
   "cell_type": "markdown",
   "metadata": {},
   "source": [
    "The first step in generating a **piton** database is to first create an `EventCollection`. \n",
    "\n",
    "You can think of an `EventCollection` as simply an unordered list of all of our events.\n",
    "\n",
    "An `EventCollection` is simply an unordered list of events, where each event is associated with a specific patient ID.\n",
    "\n",
    "Because it is internally represented by **piton** as a folder containing multiple files across which events will be sharded, we must specify a **target directory** where **piton** can store our `EventCollection`.\n",
    "\n",
    "We can create an `EventCollection` from a list of events as follows:"
   ]
  },
  {
   "cell_type": "code",
   "execution_count": 9,
   "metadata": {},
   "outputs": [],
   "source": [
    "# Create directory to store EventCollection\n",
    "target_directory = \"../ignore/dataset_tutorial_target/\"\n",
    "os.makedirs(target_directory, exist_ok=True)\n",
    "\n",
    "# Create EventCollection\n",
    "event_collection = piton.datasets.EventCollection(\n",
    "    os.path.join(target_directory, \"events\")\n",
    ")"
   ]
  },
  {
   "cell_type": "markdown",
   "metadata": {},
   "source": [
    "Now, we'll actually add `Event`s into our `EventCollection`.\n",
    "\n",
    "First, we must call `EventCollection.create_writer()` in order to create a writer object that will be used to write events to the `EventCollection` on disk (remember that everything in **piton** lives on disk). \n",
    "\n",
    "Then, we can call `add_event()` to add each individual event to our `EventCollection`."
   ]
  },
  {
   "cell_type": "code",
   "execution_count": 10,
   "metadata": {},
   "outputs": [],
   "source": [
    "# Add events to the EventCollection\n",
    "with contextlib.closing(event_collection.create_writer()) as writer:\n",
    "    # NOTE: We need to use the `create_writer()` handler to create\n",
    "    # a writer object for adding events to the EventCollection\n",
    "    # This will automatically create a new file for these events\n",
    "    for patient in patients:\n",
    "        for event in patient.events:\n",
    "            # Note that these are getting written to disk as part of the EventCollection\n",
    "            writer.add_event(patient_id=patient.patient_id, \n",
    "                             event=event)"
   ]
  },
  {
   "cell_type": "markdown",
   "metadata": {},
   "source": [
    "In order to read events from an `EventCollection`, we use the `EventCollection.create_reader()` method to ingest events from disk."
   ]
  },
  {
   "cell_type": "code",
   "execution_count": 12,
   "metadata": {},
   "outputs": [
    {
     "name": "stdout",
     "output_type": "stream",
     "text": [
      "(0, Event(start=2010-01-05 00:00:00, code=2))\n",
      "(0, Event(start=2010-01-03 10:45:00, code=2, value=test_value))\n",
      "(1, Event(start=2010-01-03 10:45:00, code=2, value=test_value))\n",
      "(1, Event(start=2010-01-03 10:30:00, code=0, value=34.0, source_table=visit, extra_attr=True))\n",
      "(10, Event(start=2010-01-05 00:00:00, code=2))\n",
      "(10, Event(start=2010-01-03 10:45:00, code=2, value=test_value))\n",
      "(10, Event(start=2010-01-03 10:30:00, code=0, value=34.0, source_table=visit, extra_attr=True))\n"
     ]
    }
   ],
   "source": [
    "# We need to create a reader object as an EventCollection will be natively stored on disk\n",
    "# Note that (Patient ID, Event) tuples can be returned in any order -- piton makes no guarantees\n",
    "with event_collection.reader() as reader:\n",
    "    for event in reader:\n",
    "        print(event)"
   ]
  },
  {
   "cell_type": "markdown",
   "metadata": {},
   "source": [
    "# 3. Create a `PatientCollection` from our `EventCollection`"
   ]
  },
  {
   "cell_type": "markdown",
   "metadata": {},
   "source": [
    "TODO"
   ]
  },
  {
   "cell_type": "code",
   "execution_count": 14,
   "metadata": {},
   "outputs": [
    {
     "name": "stdout",
     "output_type": "stream",
     "text": [
      "Patient(patient_id=0, events=[Event(start=2010-01-03 10:45:00, code=2, value=test_value), Event(start=2010-01-05 00:00:00, code=2)])\n",
      "Patient(patient_id=1, events=[Event(start=2010-01-03 10:30:00, code=0, value=34.0, source_table=visit, extra_attr=True), Event(start=2010-01-03 10:45:00, code=2, value=test_value)])\n",
      "Patient(patient_id=10, events=[Event(start=2010-01-03 10:30:00, code=0, value=34.0, source_table=visit, extra_attr=True), Event(start=2010-01-03 10:45:00, code=2, value=test_value), Event(start=2010-01-05 00:00:00, code=2)])\n"
     ]
    }
   ],
   "source": [
    "# Piton stores patients within PatientCollections\n",
    "# These are simply generated right from EventCollections\n",
    "patients = event_collection.to_patient_collection(\n",
    "    os.path.join(target_directory, \"patients\")\n",
    ")\n",
    "\n",
    "# We can iterate over patients\n",
    "with patients.reader() as reader:\n",
    "    for patient in reader:\n",
    "        print(patient)"
   ]
  },
  {
   "cell_type": "markdown",
   "metadata": {},
   "source": [
    "# 4. Apply transformations to our `PatientCollection`"
   ]
  },
  {
   "cell_type": "markdown",
   "metadata": {},
   "source": [
    "TODO"
   ]
  },
  {
   "cell_type": "code",
   "execution_count": 15,
   "metadata": {},
   "outputs": [
    {
     "name": "stdout",
     "output_type": "stream",
     "text": [
      "Patient(patient_id=0, events=[Event(start=2010-01-03 10:45:00, code=2, value=test_value), Event(start=2010-01-05 00:00:00, code=2)])\n",
      "Patient(patient_id=1, events=[Event(start=2010-01-03 10:30:00, code=0, value=34.0, source_table=visit, extra_attr=True), Event(start=2010-01-03 10:45:00, code=2, value=test_value)])\n",
      "Patient(patient_id=10, events=[Event(start=2010-01-03 10:30:00, code=0, value=34.0, source_table=visit, extra_attr=True), Event(start=2010-01-03 10:45:00, code=2, value=test_value), Event(start=2010-01-05 00:00:00, code=2)])\n"
     ]
    }
   ],
   "source": [
    "def transform(input: piton.Patient) -> piton.Patient:\n",
    "    return piton.Patient(\n",
    "        patient_id=input.patient_id,\n",
    "        events=[\n",
    "            a\n",
    "            for a in input.events\n",
    "            if a.value\n",
    "            != b\"test_value\"  # Note that text values are stored as bytes\n",
    "        ],  # Remove test_value for some reason\n",
    "    )\n",
    "\n",
    "transformed_patients: piton.datasets.PatientCollection = patients.transform(\n",
    "    os.path.join(target_directory, \"transformed_patients\"), transform\n",
    ")\n",
    "\n",
    "with transformed_patients.reader() as reader:\n",
    "    for patient in reader:\n",
    "        print(patient)"
   ]
  },
  {
   "cell_type": "markdown",
   "metadata": {},
   "source": [
    "# 5. Create a `PatientDatabase` from our `PatientCollection`"
   ]
  },
  {
   "cell_type": "markdown",
   "metadata": {},
   "source": [
    "TODO"
   ]
  },
  {
   "cell_type": "markdown",
   "metadata": {},
   "source": []
  }
 ],
 "metadata": {
  "kernelspec": {
   "display_name": "Python 3.10.8 ('piton_tutorials_env')",
   "language": "python",
   "name": "python3"
  },
  "language_info": {
   "codemirror_mode": {
    "name": "ipython",
    "version": 3
   },
   "file_extension": ".py",
   "mimetype": "text/x-python",
   "name": "python",
   "nbconvert_exporter": "python",
   "pygments_lexer": "ipython3",
   "version": "3.10.8"
  },
  "orig_nbformat": 4,
  "vscode": {
   "interpreter": {
    "hash": "ee66918e391248a12e80439881d893d095b73375c5c6ad8d010ae46f9900fbfe"
   }
  }
 },
 "nbformat": 4,
 "nbformat_minor": 2
}
