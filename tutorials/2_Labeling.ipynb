{
 "cells": [
  {
   "cell_type": "markdown",
   "id": "43f4d50c-4e7b-4652-9701-be9366ff70c4",
   "metadata": {},
   "source": [
    "# Labeling\n",
    "\n",
    "A core component of FEMR is labeling subjects.\n",
    "\n",
    "Labels within FEMR follow the [label schema within MEDS](https://github.com/Medical-Event-Data-Standard/meds/blob/e93f63a2f9642123c49a31ecffcdb84d877dc54a/src/meds/__init__.py#L70).\n",
    "\n",
    "Per MEDS, each label consists of three attributes:\n",
    "\n",
    "* `subject_id` (int64): The identifier for the subject to predict on\n",
    "* `prediction_time` (datetime.datetime): The timestamp for when the prediction should be made. This indicates what features are allowed to be used for prediction.\n",
    "* `boolean_value` (bool): The target to predict\n",
    "\n",
    "Additional types of labels will be added to MEDS over time, and then supported here."
   ]
  },
  {
   "cell_type": "code",
   "execution_count": 1,
   "id": "c6ac5c41-bc99-4731-ad82-7152274c67e1",
   "metadata": {},
   "outputs": [],
   "source": [
    "import shutil\n",
    "import os\n",
    "\n",
    "TARGET_DIR = 'trash/tutorial_2'\n",
    "\n",
    "if os.path.exists(TARGET_DIR):\n",
    "    shutil.rmtree(TARGET_DIR)\n",
    "\n",
    "os.mkdir(TARGET_DIR)"
   ]
  },
  {
   "cell_type": "markdown",
   "id": "7e98dd85",
   "metadata": {},
   "source": [
    "# Demonstration of some example labels"
   ]
  },
  {
   "cell_type": "code",
   "execution_count": 2,
   "id": "8d9e2ccd-71c2-4ae0-897b-7ec022f9fdf4",
   "metadata": {},
   "outputs": [],
   "source": [
    "# We can construct these labels manually\n",
    "\n",
    "import femr.labelers\n",
    "import datetime\n",
    "import meds\n",
    "\n",
    "# Predict False on March 2nd, 1994\n",
    "example_label = {'subject_id': 100, 'prediction_time': datetime.datetime(1994, 3, 2), 'boolean_value': False}\n",
    "\n",
    "# Predict True on March 2nd, 2009\n",
    "example_label2 = {'subject_id': 100, 'prediction_time': datetime.datetime(2009, 3, 2), 'boolean_value': True}\n",
    "\n",
    "\n",
    "# Multiple labels are stored using a list\n",
    "labels = [example_label, example_label2]"
   ]
  },
  {
   "cell_type": "markdown",
   "id": "e77b1bfc-8d2d-4f79-b855-f90b3a73736e",
   "metadata": {},
   "source": [
    "# Generating labels programatically within FEMR\n",
    "\n",
    "One core feature of FEMR is the ability to algorithmically generate labels through the use of a labeling function class.\n",
    "\n",
    "The core for FEMR's labeling code is the abstract base class [Labeler](https://github.com/som-shahlab/femr/blob/main/src/femr/labelers/core.py#L40).\n",
    "\n",
    "Labeler has one abstract methods:\n",
    "\n",
    "```python\n",
    "def label(self, subject: meds_reader.Subject) -> List[meds.Label]:\n",
    "    Generate a list of labels for a subject\n",
    "```\n",
    "\n",
    "Note that the subject is assumed to be the [MEDS Subject schema](https://github.com/Medical-Event-Data-Standard/meds/blob/e93f63a2f9642123c49a31ecffcdb84d877dc54a/src/meds/__init__.py#L18).\n",
    "\n",
    "Once this method is implemented, the apply function becomes available for generating labels."
   ]
  },
  {
   "cell_type": "code",
   "execution_count": 12,
   "id": "9ac22dbe-ef34-468a-8ab3-673e58e5a920",
   "metadata": {},
   "outputs": [
    {
     "name": "stdout",
     "output_type": "stream",
     "text": [
      "     subject_id prediction_time  boolean_value\n",
      "0             0      1993-01-31          False\n",
      "1             1      1991-08-31           True\n",
      "2             2      1992-08-05           True\n",
      "3             3      1991-01-11           True\n",
      "4             4      1994-04-05           True\n",
      "..          ...             ...            ...\n",
      "195         195      1995-10-07          False\n",
      "196         196      1995-08-31          False\n",
      "197         197      1992-05-29           True\n",
      "198         198      1992-10-06           True\n",
      "199         199      1993-05-02           True\n",
      "\n",
      "[200 rows x 3 columns]\n"
     ]
    }
   ],
   "source": [
    "from typing import List\n",
    "import femr.pat_utils\n",
    "import meds_reader\n",
    "import meds\n",
    "import femr.labelers\n",
    "\n",
    "\n",
    "class IsMaleLabeler(femr.labelers.Labeler):\n",
    "    # Dummy labeler to predict gender at birth\n",
    "    \n",
    "    def label(self, subject: meds_reader.Subject) -> List[meds.Label]:\n",
    "        is_male = any('Gender/M' == event.code for event in subject.events)\n",
    "        return [{\n",
    "            'subject_id': subject.subject_id, \n",
    "            'prediction_time': subject.events[-1].time,\n",
    "            'boolean_value': is_male,\n",
    "        }]\n",
    "    \n",
    "database = meds_reader.SubjectDatabase(\"input/synthetic_meds\")\n",
    "\n",
    "labeler = IsMaleLabeler()\n",
    "labeled_subjects = labeler.apply(database)\n",
    "\n",
    "\n",
    "print(labeled_subjects)\n",
    "\n"
   ]
  },
  {
   "cell_type": "code",
   "execution_count": 13,
   "id": "20bd7859",
   "metadata": {},
   "outputs": [],
   "source": [
    "# We can save these to a parquet\n",
    "\n",
    "labeled_subjects.to_parquet(\"trash/tutorial_2/labels.parquet\", index=False)"
   ]
  }
 ],
 "metadata": {
  "kernelspec": {
   "display_name": "Python 3 (ipykernel)",
   "language": "python",
   "name": "python3"
  },
  "language_info": {
   "codemirror_mode": {
    "name": "ipython",
    "version": 3
   },
   "file_extension": ".py",
   "mimetype": "text/x-python",
   "name": "python",
   "nbconvert_exporter": "python",
   "pygments_lexer": "ipython3",
   "version": "3.13.3"
  }
 },
 "nbformat": 4,
 "nbformat_minor": 5
}
